{
 "cells": [
  {
   "cell_type": "code",
   "execution_count": null,
   "id": "0d014aa4",
   "metadata": {},
   "outputs": [],
   "source": [
    "import pandas as pd",
    "from sklearn.model_selection import train_test_split",
    "from sklearn.impute import SimpleImputer",
    "from sklearn.preprocessing import StandardScaler",
    "from sklearn.linear_model import LogisticRegression",
    "from sklearn.metrics import classification_report, roc_auc_score"
   ]
  },
  {
   "cell_type": "markdown",
   "id": "cb8895eb",
   "metadata": {},
   "source": [
    "### Load the dataset from a GitHub URL"
   ]
  },
  {
   "cell_type": "code",
   "execution_count": null,
   "id": "1d9cb4a4",
   "metadata": {},
   "outputs": [],
   "source": [
    "def load_data():",
    "    # Replace 'yourusername' and 'repository' with your GitHub details",
    "   url = \"https://raw.githubusercontent.com/Agamjot27/logistic-regression/main/framingham.csv\"",
    "    try:",
    "        data = pd.read_csv(url)",
    "        print('Data loaded successfully.')",
    "        return data",
    "    except Exception as e:",
    "        print(f'Error loading data: {e}')",
    "        return None"
   ]
  },
  {
   "cell_type": "markdown",
   "id": "9bdc84f6",
   "metadata": {},
   "source": [
    "### Preprocess the dataset"
   ]
  },
  {
   "cell_type": "code",
   "execution_count": null,
   "id": "85d9be88",
   "metadata": {},
   "outputs": [],
   "source": [
    "def preprocess_data(data):",
    "    # Ensure the 'TenYearCHD' column exists",
    "    if 'TenYearCHD' not in data.columns:",
    "        raise ValueError('\'TenYearCHD\' column not found in the dataset.')",
    "    ",
    "    # Handle missing values",
    "    imputer = SimpleImputer(strategy='mean')",
    "    data_imputed = pd.DataFrame(imputer.fit_transform(data), columns=data.columns)",
    "    ",
    "    # Split into features (X) and target (y)",
    "    X = data_imputed.drop(columns='TenYearCHD')",
    "    y = data_imputed['TenYearCHD']",
    "    ",
    "    # Standardize continuous features",
    "    scaler = StandardScaler()",
    "    X_scaled = scaler.fit_transform(X)",
    "    ",
    "    return X_scaled, y"
   ]
  },
  {
   "cell_type": "markdown",
   "id": "e2efc553",
   "metadata": {},
   "source": [
    "### Train and evaluate the model"
   ]
  },
  {
   "cell_type": "code",
   "execution_count": null,
   "id": "62793dff",
   "metadata": {},
   "outputs": [],
   "source": [
    "def train_and_evaluate(X, y):",
    "    # Split the dataset",
    "    X_train, X_test, y_train, y_test = train_test_split(X, y, test_size=0.2, random_state=42, stratify=y)",
    "    ",
    "    # Train the Logistic Regression model",
    "    model = LogisticRegression(random_state=42, max_iter=1000)",
    "    model.fit(X_train, y_train)",
    "    ",
    "    # Predictions and probabilities",
    "    y_pred = model.predict(X_test)",
    "    y_prob = model.predict_proba(X_test)[:, 1]",
    "    ",
    "    # Evaluate the model",
    "    report = classification_report(y_test, y_pred, target_names=[\"No CHD\", \"CHD\"])",
    "    roc_auc = roc_auc_score(y_test, y_prob)",
    "    ",
    "    return model, report, roc_auc"
   ]
  },
  {
   "cell_type": "markdown",
   "id": "1de2809d",
   "metadata": {},
   "source": [
    "### Main function"
   ]
  },
  {
   "cell_type": "code",
   "execution_count": null,
   "id": "0b9da9d6",
   "metadata": {},
   "outputs": [],
   "source": [
    "def main():",
    "    # Load and preprocess the data",
    "    data = load_data()",
    "    if data is None:",
    "        return",
    "    ",
    "    try:",
    "        X, y = preprocess_data(data)",
    "    except Exception as e:",
    "        print(f'Error in preprocessing data: {e}')",
    "        return",
    "    ",
    "    # Train and evaluate the model",
    "    model, report, roc_auc = train_and_evaluate(X, y)",
    "    ",
    "    # Output the results",
    "    print('Classification Report:')",
    "    print(report)",
    "    print(f'ROC-AUC Score: {roc_auc:.4f}')",
    "",
    "if __name__ == '__main__':",
    "    main()"
   ]
  }
 ],
 "metadata": {
  "kernelspec": {
   "display_name": "Python 3",
   "language": "python",
   "name": "python3"
  },
  "language_info": {
   "codemirror_mode": {
    "name": "ipython",
    "version": 3
   },
   "file_extension": ".py",
   "mimetype": "text/x-python",
   "name": "python",
   "nbconvert_exporter": "python",
   "pygments_lexer": "ipython3",
   "version": "3.9"
  }
 },
 "nbformat": 4,
 "nbformat_minor": 5
}
